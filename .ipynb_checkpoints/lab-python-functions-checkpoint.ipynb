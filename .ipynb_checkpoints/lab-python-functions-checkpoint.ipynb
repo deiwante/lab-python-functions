{
 "cells": [
  {
   "cell_type": "markdown",
   "id": "25d7736c-ba17-4aff-b6bb-66eba20fbf4e",
   "metadata": {},
   "source": [
    "# Lab | Functions"
   ]
  },
  {
   "cell_type": "markdown",
   "id": "0c581062-8967-4d93-b06e-62833222f930",
   "metadata": {
    "tags": []
   },
   "source": [
    "## Exercise: Managing Customer Orders with Functions\n",
    "\n",
    "In the previous exercise, you improved the code for managing customer orders by using loops and flow control. Now, let's take it a step further and refactor the code by introducing functions.\n",
    "\n",
    "Follow the steps below to complete the exercise:\n",
    "\n",
    "1. Define a function named `initialize_inventory` that takes `products` as a parameter. Inside the function, implement the code for initializing the inventory dictionary using a loop and user input.\n",
    "\n",
    "2. Define a function named `get_customer_orders` that takes no parameters. Inside the function, implement the code for prompting the user to enter the product names using a loop. The function should return the `customer_orders` set.\n",
    "\n",
    "3. Define a function named `update_inventory` that takes `customer_orders` and `inventory` as parameters. Inside the function, implement the code for updating the inventory dictionary based on the customer orders.\n",
    "\n",
    "4. Define a function named `calculate_order_statistics` that takes `customer_orders` and `products` as parameters. Inside the function, implement the code for calculating the order statistics (total products ordered, and percentage of unique products ordered). The function should return these values.\n",
    "\n",
    "5. Define a function named `print_order_statistics` that takes `order_statistics` as a parameter. Inside the function, implement the code for printing the order statistics.\n",
    "\n",
    "6. Define a function named `print_updated_inventory` that takes `inventory` as a parameter. Inside the function, implement the code for printing the updated inventory.\n",
    "\n",
    "7. Call the functions in the appropriate sequence to execute the program and manage customer orders.\n",
    "\n",
    "Hints for functions:\n",
    "\n",
    "- Consider the input parameters required for each function and their return values.\n",
    "- Utilize function parameters and return values to transfer data between functions.\n",
    "- Test your functions individually to ensure they work correctly.\n",
    "\n",
    "\n"
   ]
  },
  {
   "cell_type": "code",
   "execution_count": 66,
   "id": "18ed15cd",
   "metadata": {},
   "outputs": [
    {
     "name": "stdout",
     "output_type": "stream",
     "text": [
      "Enter the quantity of t-shirt: 5\n",
      "Enter the quantity of mug: 5\n",
      "Enter the quantity of hat: 5\n",
      "Enter the quantity of book: 5\n",
      "Enter the quantity of keychain: 5\n",
      "Thank you for buying\n",
      "Would you like to add a product? yes/noyes\n",
      "Enter the name of product to order: hat\n",
      "Would you like to add another product? Yes/Noyes\n",
      "Enter the name of product to order: dress\n",
      "Would you like to add another product? Yes/Nono\n",
      "\n",
      "Updated Inventory:\n",
      "T-shirt: 5\n",
      "Mug: 5\n",
      "Hat: 4\n",
      "Book: 5\n",
      "Keychain: 5\n",
      "Dress: 1\n"
     ]
    }
   ],
   "source": [
    "products = [\"t-shirt\", \"mug\", \"hat\", \"book\", \"keychain\"] \n",
    "def initialize_inventory(products):\n",
    "    inventory = {}  \n",
    "    for product in products:  \n",
    "        quantity = int(input(f\"Enter the quantity of {product}: \"))  \n",
    "        inventory[product] = quantity  \n",
    "    return inventory  \n",
    "\n",
    "inventory = initialize_inventory(products)\n",
    "\n",
    "#order = input(f\"Enter the name of product to order: \").lower()\n",
    "\n",
    "def get_customer_orders():\n",
    "    customer_orders = set()\n",
    "    answer = input(f\"Would you like to add a product? yes/no\")\n",
    "    while answer == \"yes\" :\n",
    "        order = input(f\"Enter the name of product to order: \").lower()\n",
    "        customer_orders.add(order)\n",
    "        answer = input(f\"Would you like to add another product? Yes/No\")\n",
    "    return customer_orders\n",
    "\n",
    "print(\"Thank you for buying\")    \n",
    "   \n",
    "        \n",
    "customer_orders_set = get_customer_orders()\n",
    "\n",
    "\n",
    "\n",
    "def update_inventory(customer_orders, inventory):\n",
    "    for order in customer_orders_set:\n",
    "        if order in inventory:  # Check if the ordered product is already in the inventory\n",
    "            inventory[order] -= 1  # If yes, increment the quantity of the ordered product by 1\n",
    "        else:\n",
    "            inventory[order] = 1  # If not, add the ordered product to the inventory with a quantity of 1\n",
    "    return inventory\n",
    "\n",
    "update_inventory(customer_orders_set, inventory)\n",
    "\n",
    "\n",
    "\n",
    "def calculate_order_statistics(customer_orders_set, products):\n",
    "    total_products_ordered = len(customer_orders_set)\n",
    "    percentage_ordered = (total_products_ordered / len(products)) * 100\n",
    "    order_status = (total_products_ordered, percentage_ordered)\n",
    "    return order_status\n",
    "\n",
    "print(\"\\nUpdated Inventory:\")\n",
    "order_status = calculate_order_statistics(customer_orders_set, products)\n",
    "\n",
    "      \n",
    "def print_updated_inventory(inventory):\n",
    "    for product, quantity in inventory.items():\n",
    "        print(product.capitalize() + \":\", quantity) \n",
    "        \n",
    "print_updated_inventory(inventory)"
   ]
  },
  {
   "cell_type": "code",
   "execution_count": null,
   "id": "3571552a",
   "metadata": {},
   "outputs": [],
   "source": [
    "5"
   ]
  }
 ],
 "metadata": {
  "kernelspec": {
   "display_name": "Python 3 (ipykernel)",
   "language": "python",
   "name": "python3"
  },
  "language_info": {
   "codemirror_mode": {
    "name": "ipython",
    "version": 3
   },
   "file_extension": ".py",
   "mimetype": "text/x-python",
   "name": "python",
   "nbconvert_exporter": "python",
   "pygments_lexer": "ipython3",
   "version": "3.11.5"
  }
 },
 "nbformat": 4,
 "nbformat_minor": 5
}
